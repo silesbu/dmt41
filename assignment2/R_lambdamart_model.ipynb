{
 "cells": [
  {
   "cell_type": "markdown",
   "metadata": {},
   "source": [
    "# Data mining techniques: Assignment 2\n",
    "\n",
    "## LambdaMART model training and evaluation"
   ]
  },
  {
   "cell_type": "code",
   "execution_count": 1,
   "metadata": {},
   "outputs": [
    {
     "name": "stderr",
     "output_type": "stream",
     "text": [
      "Warning message:\n",
      "“package ‘gbm’ was built under R version 3.4.4”Loading required package: survival\n",
      "Loading required package: lattice\n",
      "Loading required package: splines\n",
      "Loading required package: parallel\n",
      "Loaded gbm 2.1.3\n"
     ]
    }
   ],
   "source": [
    "library(\"gbm\")\n",
    "library(\"xgboost\")"
   ]
  },
  {
   "cell_type": "markdown",
   "metadata": {},
   "source": [
    "# Scoring and Ranking functions"
   ]
  },
  {
   "cell_type": "code",
   "execution_count": 111,
   "metadata": {},
   "outputs": [],
   "source": [
    "rank_prediction <- function(df){\n",
    "    \"\n",
    "    Ranks search IDs according to prediction scores\n",
    "\n",
    "    The dataframe given as a parameter \n",
    "    must contain the following columns\n",
    "    in order to rank:\n",
    "        - srch_id (the search IDs)\n",
    "        - prediction (the prediction per row (higher score -> better rank))\n",
    "\n",
    "    Other important columns are:\n",
    "        - prop_id (for sorting the property IDs for the prediction file)\n",
    "        - relevance (relevance score for calculating the NDCG of the test set)\n",
    "    \"\n",
    "    \n",
    "    search_ids <- sort(unique(df[,\"srch_id\"]))\n",
    "    searches <- df[,\"srch_id\"]\n",
    "    \n",
    "    res <- data.frame()\n",
    "    for (i in search_ids){\n",
    "        group <- df[searches == i,]\n",
    "        res <- rbind(res,group[order(group$prediction,decreasing=TRUE),])\n",
    "    }\n",
    "    \n",
    "    rownames(res) <- NULL\n",
    "    \n",
    "    return(res)\n",
    "}\n",
    "\n",
    "ndcg_score <- function(df){\n",
    "    \"\n",
    "    Calculates the average ndcg score for a \n",
    "    given ensemble of ranked searches.\n",
    "\n",
    "    The dataframe given as a parameter \n",
    "    must contain the following columns\n",
    "    in order to calculate the ndcg score:\n",
    "        - srch_id (the search IDs)\n",
    "        - relevance (relevance score for calculating the NDCG of the test set)\n",
    "    \"\n",
    "    \n",
    "    search_ids <- sort(unique(df[,\"srch_id\"]))\n",
    "    searches <- df[,\"srch_id\"]\n",
    "    \n",
    "    ndcg_scores <- rep(0,length(search_ids))\n",
    "    for (i in 1:length(search_ids)){\n",
    "        group <- df[searches == i,]\n",
    "        \n",
    "        dcg <- group[,\"relevance\"] / log2((1:nrow(group))+1)\n",
    "        norm <- group[order(group$relevance,decreasing=TRUE),\"relevance\"] / log2((1:nrow(group))+1)\n",
    "        \n",
    "        ndcg_scores[i] <- sum(dcg) / sum(norm)\n",
    "    }\n",
    "\n",
    "    return(mean(ndcg_scores))\n",
    "}"
   ]
  },
  {
   "cell_type": "code",
   "execution_count": 142,
   "metadata": {},
   "outputs": [
    {
     "data": {
      "text/html": [
       "<table>\n",
       "<thead><tr><th scope=col>srch_id</th><th scope=col>prop_id</th><th scope=col>prediction</th><th scope=col>relevance</th></tr></thead>\n",
       "<tbody>\n",
       "\t<tr><td>1 </td><td> 1</td><td>4 </td><td>5 </td></tr>\n",
       "\t<tr><td>1 </td><td> 2</td><td>3 </td><td>1 </td></tr>\n",
       "\t<tr><td>1 </td><td> 3</td><td>5 </td><td>1 </td></tr>\n",
       "\t<tr><td>1 </td><td> 4</td><td>6 </td><td>0 </td></tr>\n",
       "\t<tr><td>1 </td><td> 5</td><td>1 </td><td>0 </td></tr>\n",
       "\t<tr><td>1 </td><td> 6</td><td>2 </td><td>0 </td></tr>\n",
       "\t<tr><td>2 </td><td> 7</td><td>3 </td><td>0 </td></tr>\n",
       "\t<tr><td>2 </td><td> 8</td><td>2 </td><td>0 </td></tr>\n",
       "\t<tr><td>2 </td><td> 9</td><td>5 </td><td>5 </td></tr>\n",
       "\t<tr><td>2 </td><td>10</td><td>6 </td><td>0 </td></tr>\n",
       "\t<tr><td>2 </td><td>11</td><td>4 </td><td>0 </td></tr>\n",
       "\t<tr><td>2 </td><td>12</td><td>1 </td><td>1 </td></tr>\n",
       "</tbody>\n",
       "</table>\n"
      ],
      "text/latex": [
       "\\begin{tabular}{r|llll}\n",
       " srch\\_id & prop\\_id & prediction & relevance\\\\\n",
       "\\hline\n",
       "\t 1  &  1 & 4  & 5 \\\\\n",
       "\t 1  &  2 & 3  & 1 \\\\\n",
       "\t 1  &  3 & 5  & 1 \\\\\n",
       "\t 1  &  4 & 6  & 0 \\\\\n",
       "\t 1  &  5 & 1  & 0 \\\\\n",
       "\t 1  &  6 & 2  & 0 \\\\\n",
       "\t 2  &  7 & 3  & 0 \\\\\n",
       "\t 2  &  8 & 2  & 0 \\\\\n",
       "\t 2  &  9 & 5  & 5 \\\\\n",
       "\t 2  & 10 & 6  & 0 \\\\\n",
       "\t 2  & 11 & 4  & 0 \\\\\n",
       "\t 2  & 12 & 1  & 1 \\\\\n",
       "\\end{tabular}\n"
      ],
      "text/markdown": [
       "\n",
       "srch_id | prop_id | prediction | relevance | \n",
       "|---|---|---|---|---|---|---|---|---|---|---|---|\n",
       "| 1  |  1 | 4  | 5  | \n",
       "| 1  |  2 | 3  | 1  | \n",
       "| 1  |  3 | 5  | 1  | \n",
       "| 1  |  4 | 6  | 0  | \n",
       "| 1  |  5 | 1  | 0  | \n",
       "| 1  |  6 | 2  | 0  | \n",
       "| 2  |  7 | 3  | 0  | \n",
       "| 2  |  8 | 2  | 0  | \n",
       "| 2  |  9 | 5  | 5  | \n",
       "| 2  | 10 | 6  | 0  | \n",
       "| 2  | 11 | 4  | 0  | \n",
       "| 2  | 12 | 1  | 1  | \n",
       "\n",
       "\n"
      ],
      "text/plain": [
       "   srch_id prop_id prediction relevance\n",
       "1  1        1      4          5        \n",
       "2  1        2      3          1        \n",
       "3  1        3      5          1        \n",
       "4  1        4      6          0        \n",
       "5  1        5      1          0        \n",
       "6  1        6      2          0        \n",
       "7  2        7      3          0        \n",
       "8  2        8      2          0        \n",
       "9  2        9      5          5        \n",
       "10 2       10      6          0        \n",
       "11 2       11      4          0        \n",
       "12 2       12      1          1        "
      ]
     },
     "metadata": {},
     "output_type": "display_data"
    },
    {
     "data": {
      "text/html": [
       "<table>\n",
       "<thead><tr><th scope=col>srch_id</th><th scope=col>prop_id</th><th scope=col>prediction</th><th scope=col>relevance</th></tr></thead>\n",
       "<tbody>\n",
       "\t<tr><td>1 </td><td> 4</td><td>6 </td><td>0 </td></tr>\n",
       "\t<tr><td>1 </td><td> 3</td><td>5 </td><td>1 </td></tr>\n",
       "\t<tr><td>1 </td><td> 1</td><td>4 </td><td>5 </td></tr>\n",
       "\t<tr><td>1 </td><td> 2</td><td>3 </td><td>1 </td></tr>\n",
       "\t<tr><td>1 </td><td> 6</td><td>2 </td><td>0 </td></tr>\n",
       "\t<tr><td>1 </td><td> 5</td><td>1 </td><td>0 </td></tr>\n",
       "\t<tr><td>2 </td><td>10</td><td>6 </td><td>0 </td></tr>\n",
       "\t<tr><td>2 </td><td> 9</td><td>5 </td><td>5 </td></tr>\n",
       "\t<tr><td>2 </td><td>11</td><td>4 </td><td>0 </td></tr>\n",
       "\t<tr><td>2 </td><td> 7</td><td>3 </td><td>0 </td></tr>\n",
       "\t<tr><td>2 </td><td> 8</td><td>2 </td><td>0 </td></tr>\n",
       "\t<tr><td>2 </td><td>12</td><td>1 </td><td>1 </td></tr>\n",
       "</tbody>\n",
       "</table>\n"
      ],
      "text/latex": [
       "\\begin{tabular}{r|llll}\n",
       " srch\\_id & prop\\_id & prediction & relevance\\\\\n",
       "\\hline\n",
       "\t 1  &  4 & 6  & 0 \\\\\n",
       "\t 1  &  3 & 5  & 1 \\\\\n",
       "\t 1  &  1 & 4  & 5 \\\\\n",
       "\t 1  &  2 & 3  & 1 \\\\\n",
       "\t 1  &  6 & 2  & 0 \\\\\n",
       "\t 1  &  5 & 1  & 0 \\\\\n",
       "\t 2  & 10 & 6  & 0 \\\\\n",
       "\t 2  &  9 & 5  & 5 \\\\\n",
       "\t 2  & 11 & 4  & 0 \\\\\n",
       "\t 2  &  7 & 3  & 0 \\\\\n",
       "\t 2  &  8 & 2  & 0 \\\\\n",
       "\t 2  & 12 & 1  & 1 \\\\\n",
       "\\end{tabular}\n"
      ],
      "text/markdown": [
       "\n",
       "srch_id | prop_id | prediction | relevance | \n",
       "|---|---|---|---|---|---|---|---|---|---|---|---|\n",
       "| 1  |  4 | 6  | 0  | \n",
       "| 1  |  3 | 5  | 1  | \n",
       "| 1  |  1 | 4  | 5  | \n",
       "| 1  |  2 | 3  | 1  | \n",
       "| 1  |  6 | 2  | 0  | \n",
       "| 1  |  5 | 1  | 0  | \n",
       "| 2  | 10 | 6  | 0  | \n",
       "| 2  |  9 | 5  | 5  | \n",
       "| 2  | 11 | 4  | 0  | \n",
       "| 2  |  7 | 3  | 0  | \n",
       "| 2  |  8 | 2  | 0  | \n",
       "| 2  | 12 | 1  | 1  | \n",
       "\n",
       "\n"
      ],
      "text/plain": [
       "   srch_id prop_id prediction relevance\n",
       "1  1        4      6          0        \n",
       "2  1        3      5          1        \n",
       "3  1        1      4          5        \n",
       "4  1        2      3          1        \n",
       "5  1        6      2          0        \n",
       "6  1        5      1          0        \n",
       "7  2       10      6          0        \n",
       "8  2        9      5          5        \n",
       "9  2       11      4          0        \n",
       "10 2        7      3          0        \n",
       "11 2        8      2          0        \n",
       "12 2       12      1          1        "
      ]
     },
     "metadata": {},
     "output_type": "display_data"
    },
    {
     "data": {
      "text/html": [
       "0.602209616719643"
      ],
      "text/latex": [
       "0.602209616719643"
      ],
      "text/markdown": [
       "0.602209616719643"
      ],
      "text/plain": [
       "[1] 0.6022096"
      ]
     },
     "metadata": {},
     "output_type": "display_data"
    }
   ],
   "source": [
    "# Test implementation\n",
    "\n",
    "srch_id <- c(rep(1,6),rep(2,6))\n",
    "prop_id <- 1:12\n",
    "prediction <- c(4,3,5,6,1,2,sample(1:6,replace=F))\n",
    "relevance <- c(5,1,1,0,0,0,sample(c(5,1,0,0,0,0),replace=F))\n",
    "\n",
    "df <- data.frame(srch_id=srch_id,prop_id=prop_id,prediction=prediction,relevance=relevance)\n",
    "\n",
    "df\n",
    "\n",
    "ranking <- rank_prediction(df)\n",
    "\n",
    "ranking\n",
    "\n",
    "ndcg_score(ranking)"
   ]
  },
  {
   "cell_type": "markdown",
   "metadata": {},
   "source": [
    "# Load the data"
   ]
  },
  {
   "cell_type": "code",
   "execution_count": 2,
   "metadata": {},
   "outputs": [],
   "source": [
    "# Memory efficient column specific data frame loading functions\n",
    "col_list <- function(names,selected,df){\n",
    "    res <- c(1:length(names))\n",
    "    res[] <- \"NULL\"\n",
    "        \n",
    "    for(i in 1:length(selected)){\n",
    "        res[names == selected[i]] <- df[selected[i],1]\n",
    "    }\n",
    "    \n",
    "    return(res)\n",
    "}\n",
    "\n",
    "load_part <- function(path,nrows = -1,skip = 1,colClasses = NA){\n",
    "    namecols <- colClasses\n",
    "    if(length(namecols) > 1 || !is.na(namecols)){\n",
    "        namecols[colClasses != \"NULL\"] <- NA\n",
    "    }\n",
    "    \n",
    "    names <- colnames(read.csv(trainPath,nrows = 1,colClasses=namecols))\n",
    "    df <- read.csv(trainPath,header=F,skip=skip,nrows = nrows,colClasses=colClasses,\n",
    "                   na.strings=c(\"NA\",\"NULL\"))\n",
    "    \n",
    "    colnames(df) <- names\n",
    "    \n",
    "    return(df)\n",
    "}"
   ]
  },
  {
   "cell_type": "code",
   "execution_count": null,
   "metadata": {},
   "outputs": [],
   "source": [
    "trainPath <- \"/home/kevin/data_mining/data/assignment2/undertrain.csv\"\n",
    "validPath <- \"/home/kevin/data_mining/data/assignment2/undervalid.csv\"\n",
    "testPath <- \"/home/kevin/data_mining/data/assignment2/undertest.csv\"\n",
    "\n",
    "train <- read.csv(trainPath)\n",
    "valid <- read.csv(validPath)\n",
    "test <- read.csv(testPath)"
   ]
  },
  {
   "cell_type": "markdown",
   "metadata": {},
   "source": [
    "# Model training"
   ]
  },
  {
   "cell_type": "markdown",
   "metadata": {},
   "source": [
    "## Train the lambdaMART using XGBoost"
   ]
  },
  {
   "cell_type": "code",
   "execution_count": null,
   "metadata": {},
   "outputs": [],
   "source": [
    "xgb.train <- subset(train.train, select=c(-srch_id,-position,-click_bool,-gross_bookings_usd,-booking_bool,-relevance))\n",
    "#dtest <- subset()\n",
    "\n",
    "xgb.train <- data.matrix(xgb.train)\n",
    "\n",
    "head(xgb.train)"
   ]
  },
  {
   "cell_type": "code",
   "execution_count": null,
   "metadata": {},
   "outputs": [],
   "source": [
    "xgb.model <- xgboost(booster=\"gbtree\",data = xgb.train, label=train.train$relevance, nrounds=100, \n",
    "                 objective = \"rank:pairwise\",eval_metric=\"ndcg\",missing=NA)"
   ]
  },
  {
   "cell_type": "code",
   "execution_count": null,
   "metadata": {},
   "outputs": [],
   "source": [
    "predictions <- predict(xgb.model,xgb.train)\n",
    "\n",
    "predictions.df <- data.frame(srch_id=train.train$srch_id,prop_id=train.train$prop_id,\n",
    "                            predictions=predictions,relevance=train.train$relevance)\n",
    "\n",
    "predictions.df[predictions.df$srch_id == 1,]"
   ]
  },
  {
   "cell_type": "markdown",
   "metadata": {},
   "source": [
    "## Train lambdaMART using GBM"
   ]
  },
  {
   "cell_type": "code",
   "execution_count": null,
   "metadata": {},
   "outputs": [],
   "source": [
    "gbm.train <- subset(train.train, select=c(-position,-click_bool,-gross_bookings_usd,-booking_bool))\n",
    "\n",
    "head(gbm.train)\n",
    "\n",
    "gbm.model <- gbm(relevance~date_year:comp8_rate_percent_diff,\n",
    "                data=gbm.train,\n",
    "                distribution=list(   # loss function:\n",
    "                  name='pairwise',   # pairwise\n",
    "                  metric=\"ndcg\",     # ranking metric:\n",
    "                  group='srch_id'),    # column indicating query groups\n",
    "                n.trees=1000,        # number of trees\n",
    "                cv.folds = 2,\n",
    "                keep.data=TRUE,      # store copy of input data in model\n",
    "                verbose = FALSE,     # don't print progress\n",
    "                n.cores = 2)         # number of cores used"
   ]
  },
  {
   "cell_type": "code",
   "execution_count": null,
   "metadata": {},
   "outputs": [],
   "source": [
    "gbm.perf(gbm.model,method=\"test\")"
   ]
  },
  {
   "cell_type": "code",
   "execution_count": null,
   "metadata": {},
   "outputs": [],
   "source": [
    "predictions <- predict(gbm.model,gbm.train,n.trees=1000)\n",
    "\n",
    "predictions.df <- data.frame(srch_id=gbm.train$srch_id,prop_id=gbm.train$prop_id,\n",
    "                            predictions=predictions,relevance=gbm.train$relevance)\n",
    "\n",
    "predictions.df[predictions.df$srch_id == 1,]"
   ]
  },
  {
   "cell_type": "markdown",
   "metadata": {},
   "source": [
    "# Model evaluation"
   ]
  },
  {
   "cell_type": "markdown",
   "metadata": {},
   "source": []
  },
  {
   "cell_type": "code",
   "execution_count": null,
   "metadata": {},
   "outputs": [],
   "source": []
  }
 ],
 "metadata": {
  "kernelspec": {
   "display_name": "R [conda env:anaconda3]",
   "language": "R",
   "name": "conda-env-anaconda3-r"
  },
  "language_info": {
   "codemirror_mode": "r",
   "file_extension": ".r",
   "mimetype": "text/x-r-source",
   "name": "R",
   "pygments_lexer": "r",
   "version": "3.4.3"
  }
 },
 "nbformat": 4,
 "nbformat_minor": 2
}
