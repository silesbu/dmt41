{
 "cells": [
  {
   "cell_type": "markdown",
   "metadata": {},
   "source": [
    "# Data Mining Techniques"
   ]
  },
  {
   "cell_type": "code",
   "execution_count": 131,
   "metadata": {},
   "outputs": [],
   "source": [
    "import numpy as np\n",
    "import matplotlib.pyplot as plt\n",
    "import pandas as pd\n",
    "import re\n",
    "\n",
    "from sklearn.model_selection import KFold, StratifiedKFold\n",
    "from sklearn.linear_model import LogisticRegression\n",
    "from sklearn.naive_bayes import MultinomialNB, GaussianNB\n",
    "from sklearn.ensemble import RandomForestClassifier"
   ]
  },
  {
   "cell_type": "markdown",
   "metadata": {},
   "source": [
    "## Task 1"
   ]
  },
  {
   "cell_type": "markdown",
   "metadata": {},
   "source": [
    "We first load and preprocess the data before we do any analysis or training"
   ]
  },
  {
   "cell_type": "code",
   "execution_count": 132,
   "metadata": {},
   "outputs": [],
   "source": [
    "df = pd.read_csv(\"data/ODI-2018.csv\")"
   ]
  },
  {
   "cell_type": "code",
   "execution_count": 133,
   "metadata": {},
   "outputs": [],
   "source": [
    "df.columns = [\"timestamp\",\"programme\",\"ml\",\"ir\",\"stats\",\n",
    "              \"databases\",\"gender\",\"chocolate\",\"birthday\",\n",
    "              \"neighbors\",\"stand up\",\"earnings\",\"random number\",\n",
    "              \"bed time\",\"good day 1\",\"good day 2\"]"
   ]
  },
  {
   "cell_type": "code",
   "execution_count": 134,
   "metadata": {},
   "outputs": [
    {
     "data": {
      "text/html": [
       "<div>\n",
       "<style>\n",
       "    .dataframe thead tr:only-child th {\n",
       "        text-align: right;\n",
       "    }\n",
       "\n",
       "    .dataframe thead th {\n",
       "        text-align: left;\n",
       "    }\n",
       "\n",
       "    .dataframe tbody tr th {\n",
       "        vertical-align: top;\n",
       "    }\n",
       "</style>\n",
       "<table border=\"1\" class=\"dataframe\">\n",
       "  <thead>\n",
       "    <tr style=\"text-align: right;\">\n",
       "      <th></th>\n",
       "      <th>timestamp</th>\n",
       "      <th>programme</th>\n",
       "      <th>ml</th>\n",
       "      <th>ir</th>\n",
       "      <th>stats</th>\n",
       "      <th>databases</th>\n",
       "      <th>gender</th>\n",
       "      <th>chocolate</th>\n",
       "      <th>birthday</th>\n",
       "      <th>neighbors</th>\n",
       "      <th>stand up</th>\n",
       "      <th>earnings</th>\n",
       "      <th>random number</th>\n",
       "      <th>bed time</th>\n",
       "      <th>good day 1</th>\n",
       "      <th>good day 2</th>\n",
       "    </tr>\n",
       "  </thead>\n",
       "  <tbody>\n",
       "    <tr>\n",
       "      <th>22</th>\n",
       "      <td>4/5/2018 11:27:06</td>\n",
       "      <td>Big Data Engineering</td>\n",
       "      <td>yes</td>\n",
       "      <td>0</td>\n",
       "      <td>mu</td>\n",
       "      <td>ja</td>\n",
       "      <td>male</td>\n",
       "      <td>I have no idea what you are talking about</td>\n",
       "      <td>07-12-1995</td>\n",
       "      <td>2</td>\n",
       "      <td>no</td>\n",
       "      <td>£200</td>\n",
       "      <td>2</td>\n",
       "      <td>23:20</td>\n",
       "      <td>Good foodd</td>\n",
       "      <td>Lot of foodd</td>\n",
       "    </tr>\n",
       "    <tr>\n",
       "      <th>56</th>\n",
       "      <td>4/5/2018 11:27:27</td>\n",
       "      <td>EOR</td>\n",
       "      <td>no</td>\n",
       "      <td>0</td>\n",
       "      <td>mu</td>\n",
       "      <td>nee</td>\n",
       "      <td>male</td>\n",
       "      <td>neither</td>\n",
       "      <td>22/08/1995</td>\n",
       "      <td>4</td>\n",
       "      <td>no</td>\n",
       "      <td>100</td>\n",
       "      <td>3</td>\n",
       "      <td>23:30</td>\n",
       "      <td>Sun</td>\n",
       "      <td>Food</td>\n",
       "    </tr>\n",
       "    <tr>\n",
       "      <th>187</th>\n",
       "      <td>4/5/2018 11:28:08</td>\n",
       "      <td>PhD</td>\n",
       "      <td>no</td>\n",
       "      <td>0</td>\n",
       "      <td>mu</td>\n",
       "      <td>nee</td>\n",
       "      <td>male</td>\n",
       "      <td>neither</td>\n",
       "      <td>01/03/1995</td>\n",
       "      <td>2</td>\n",
       "      <td>no</td>\n",
       "      <td>0.25</td>\n",
       "      <td>7</td>\n",
       "      <td>23:30</td>\n",
       "      <td>Nice food</td>\n",
       "      <td>Good sleep</td>\n",
       "    </tr>\n",
       "    <tr>\n",
       "      <th>69</th>\n",
       "      <td>4/5/2018 11:27:31</td>\n",
       "      <td>AI</td>\n",
       "      <td>yes</td>\n",
       "      <td>0</td>\n",
       "      <td>mu</td>\n",
       "      <td>ja</td>\n",
       "      <td>female</td>\n",
       "      <td>I have no idea what you are talking about</td>\n",
       "      <td>10-09-1995</td>\n",
       "      <td>2</td>\n",
       "      <td>no</td>\n",
       "      <td>1</td>\n",
       "      <td>7</td>\n",
       "      <td>22</td>\n",
       "      <td>nice weather</td>\n",
       "      <td>coffee</td>\n",
       "    </tr>\n",
       "    <tr>\n",
       "      <th>17</th>\n",
       "      <td>4/5/2018 11:26:43</td>\n",
       "      <td>BA</td>\n",
       "      <td>yes</td>\n",
       "      <td>1</td>\n",
       "      <td>mu</td>\n",
       "      <td>ja</td>\n",
       "      <td>female</td>\n",
       "      <td>I have no idea what you are talking about</td>\n",
       "      <td>22-01</td>\n",
       "      <td>1</td>\n",
       "      <td>yes</td>\n",
       "      <td>100</td>\n",
       "      <td>7</td>\n",
       "      <td>01:30</td>\n",
       "      <td>Sleep</td>\n",
       "      <td>Netflix</td>\n",
       "    </tr>\n",
       "  </tbody>\n",
       "</table>\n",
       "</div>"
      ],
      "text/plain": [
       "             timestamp             programme   ml ir stats databases  gender  \\\n",
       "22   4/5/2018 11:27:06  Big Data Engineering  yes  0    mu        ja    male   \n",
       "56   4/5/2018 11:27:27                   EOR   no  0    mu       nee    male   \n",
       "187  4/5/2018 11:28:08                   PhD   no  0    mu       nee    male   \n",
       "69   4/5/2018 11:27:31                    AI  yes  0    mu        ja  female   \n",
       "17   4/5/2018 11:26:43                    BA  yes  1    mu        ja  female   \n",
       "\n",
       "                                     chocolate    birthday neighbors stand up  \\\n",
       "22   I have no idea what you are talking about  07-12-1995         2       no   \n",
       "56                                     neither  22/08/1995         4       no   \n",
       "187                                    neither  01/03/1995         2       no   \n",
       "69   I have no idea what you are talking about  10-09-1995         2       no   \n",
       "17   I have no idea what you are talking about       22-01         1      yes   \n",
       "\n",
       "    earnings random number bed time    good day 1    good day 2  \n",
       "22      £200             2    23:20    Good foodd  Lot of foodd  \n",
       "56       100             3    23:30          Sun           Food  \n",
       "187     0.25             7    23:30     Nice food    Good sleep  \n",
       "69         1             7       22  nice weather        coffee  \n",
       "17       100             7    01:30         Sleep       Netflix  "
      ]
     },
     "execution_count": 134,
     "metadata": {},
     "output_type": "execute_result"
    }
   ],
   "source": [
    "df.sample(5)"
   ]
  },
  {
   "cell_type": "markdown",
   "metadata": {},
   "source": [
    "## Programme assignment"
   ]
  },
  {
   "cell_type": "code",
   "execution_count": 135,
   "metadata": {},
   "outputs": [
    {
     "data": {
      "text/plain": [
       "ai                51\n",
       "ba                44\n",
       "bioinformatics    28\n",
       "cls               23\n",
       "other             22\n",
       "cs                21\n",
       "econometrics      18\n",
       "qrm               10\n",
       "Name: programme, dtype: int64"
      ]
     },
     "execution_count": 135,
     "metadata": {},
     "output_type": "execute_result"
    }
   ],
   "source": [
    "programme_name = df[\"programme\"].copy()[1:]\n",
    "\n",
    "# Weed out any programme name from keywords\n",
    "for i in range(1,len(programme_name)+1):\n",
    "    programme_name[i] = programme_name[i].lower()\n",
    "    name = programme_name[i]\n",
    "    \n",
    "    if \"computer\" in name:\n",
    "        programme_name[i] = \"cs\"\n",
    "    if \"big data\" in name:\n",
    "        programme_name[i] = \"cs\"\n",
    "    elif \"computational\" in name:\n",
    "        programme_name[i] = \"cls\"\n",
    "    elif \"comoputational\" in name:\n",
    "        programme_name[i] = \"cls\"\n",
    "    elif \"csl\" in name:\n",
    "        programme_name[i] = \"cls\"\n",
    "    elif \"bioinf\" in name:\n",
    "        programme_name[i] = \"bioinformatics\"\n",
    "    elif \"bionf\" in name:\n",
    "        programme_name[i] = \"bioinformatics\"\n",
    "    elif \"artificial intelligence\" in name:\n",
    "        programme_name[i] = \"ai\"\n",
    "    elif \"ai\" in name:\n",
    "        programme_name[i] = \"ai\"\n",
    "    elif \"a. i.\" in name:\n",
    "        programme_name[i] = \"ai\"\n",
    "    elif \"business analytics\" in name:\n",
    "        programme_name[i] = \"ba\"\n",
    "    elif \"econometrics\" in name:\n",
    "        programme_name[i] = \"econometrics\"\n",
    "    elif \"eor\" in name:\n",
    "        programme_name[i] = \"econometrics\"\n",
    "    elif \"qrm\" in name:\n",
    "        programme_name[i] = \"qrm\"\n",
    "    elif \"quantitative risk\" in name:\n",
    "        programme_name[i] = \"qrm\"\n",
    "\n",
    "# Label the rest with other\n",
    "main = [\"ai\",\"ba\",\"bioinformatics\",\"cls\",\"cs\",\"econometrics\",\"qrm\"]\n",
    "for i in range(1,len(programme_name)+1):\n",
    "    if programme_name[i] not in main:\n",
    "        programme_name[i] = \"other\"\n",
    "\n",
    "programme_name.value_counts()"
   ]
  },
  {
   "cell_type": "markdown",
   "metadata": {},
   "source": [
    "## Transformation categorical values"
   ]
  },
  {
   "cell_type": "code",
   "execution_count": 136,
   "metadata": {},
   "outputs": [],
   "source": [
    "# Encode all categorical values using one-hot encoding\n",
    "programme = pd.get_dummies(programme_name,prefix = \"programme\")\n",
    "ml = pd.get_dummies(df.ml[1:],prefix = \"ml\")\n",
    "ir = pd.get_dummies(df.ir[1:],prefix = \"ir\")\n",
    "stats = pd.get_dummies(df.stats[1:],prefix = \"stats\")\n",
    "databases = pd.get_dummies(df.databases[1:],prefix = \"databases\")\n",
    "gender = pd.get_dummies(df.gender[1:],prefix = \"gender\")\n",
    "chocolate = pd.get_dummies(df.chocolate[1:],prefix = \"chocolate\")\n",
    "stand_up = pd.get_dummies(df[\"stand up\"][1:],prefix = \"stand_up\")"
   ]
  },
  {
   "cell_type": "markdown",
   "metadata": {},
   "source": [
    "## Distribution of random numbers"
   ]
  },
  {
   "cell_type": "code",
   "execution_count": 137,
   "metadata": {
    "scrolled": true
   },
   "outputs": [
    {
     "data": {
      "image/png": "[encoded data removed]",
      "text/plain": [
       "<Figure size 720x360 with 1 Axes>"
      ]
     },
     "metadata": {},
     "output_type": "display_data"
    }
   ],
   "source": [
    "randomNumbers = df[\"random number\"].copy()[1:]\n",
    "\n",
    "nums = np.zeros(12)\n",
    "for i in range(1,len(randomNumbers)+1):\n",
    "    number = randomNumbers[i]\n",
    "    if not number.isdigit() or int(number) < 0 or int(number) > 10:\n",
    "        nums[11] += 1\n",
    "        randomNumbers[i] = 11\n",
    "    else:\n",
    "        nums[int(number)] += 1\n",
    "        randomNumbers[i] = int(number)\n",
    "        \n",
    "plt.figure(figsize=(10,5))\n",
    "plt.title(\"Distribution of the random numbers between 0 and 10\")\n",
    "plt.bar(np.arange(12),nums / np.sum(nums))\n",
    "plt.grid(True)\n",
    "plt.xticks(np.arange(12),list(range(0,11))+[\"Outliers\"])\n",
    "plt.show()\n",
    "\n",
    "# One hot encoding for the random numbers\n",
    "randLabels = pd.get_dummies(randomNumbers,prefix=\"random_number\")\n",
    "randLabels.rename(columns={\"random_number_11\":\"random_number_outlier\"},inplace=True)"
   ]
  },
  {
   "cell_type": "markdown",
   "metadata": {},
   "source": [
    "## Chocolate answers by gender"
   ]
  },
  {
   "cell_type": "code",
   "execution_count": 138,
   "metadata": {},
   "outputs": [
    {
     "data": {
      "text/html": [
       "<div>\n",
       "<style>\n",
       "    .dataframe thead tr:only-child th {\n",
       "        text-align: right;\n",
       "    }\n",
       "\n",
       "    .dataframe thead th {\n",
       "        text-align: left;\n",
       "    }\n",
       "\n",
       "    .dataframe tbody tr th {\n",
       "        vertical-align: top;\n",
       "    }\n",
       "</style>\n",
       "<table border=\"1\" class=\"dataframe\">\n",
       "  <thead>\n",
       "    <tr style=\"text-align: right;\">\n",
       "      <th></th>\n",
       "      <th>gender_female</th>\n",
       "      <th>gender_male</th>\n",
       "      <th>gender_unknown</th>\n",
       "    </tr>\n",
       "  </thead>\n",
       "  <tbody>\n",
       "    <tr>\n",
       "      <th>1</th>\n",
       "      <td>0</td>\n",
       "      <td>1</td>\n",
       "      <td>0</td>\n",
       "    </tr>\n",
       "    <tr>\n",
       "      <th>2</th>\n",
       "      <td>0</td>\n",
       "      <td>1</td>\n",
       "      <td>0</td>\n",
       "    </tr>\n",
       "    <tr>\n",
       "      <th>3</th>\n",
       "      <td>0</td>\n",
       "      <td>1</td>\n",
       "      <td>0</td>\n",
       "    </tr>\n",
       "    <tr>\n",
       "      <th>4</th>\n",
       "      <td>0</td>\n",
       "      <td>1</td>\n",
       "      <td>0</td>\n",
       "    </tr>\n",
       "    <tr>\n",
       "      <th>5</th>\n",
       "      <td>0</td>\n",
       "      <td>1</td>\n",
       "      <td>0</td>\n",
       "    </tr>\n",
       "  </tbody>\n",
       "</table>\n",
       "</div>"
      ],
      "text/plain": [
       "   gender_female  gender_male  gender_unknown\n",
       "1              0            1               0\n",
       "2              0            1               0\n",
       "3              0            1               0\n",
       "4              0            1               0\n",
       "5              0            1               0"
      ]
     },
     "execution_count": 138,
     "metadata": {},
     "output_type": "execute_result"
    }
   ],
   "source": [
    "gender.head()"
   ]
  },
  {
   "cell_type": "code",
   "execution_count": 139,
   "metadata": {},
   "outputs": [
    {
     "data": {
      "text/html": [
       "<div>\n",
       "<style>\n",
       "    .dataframe thead tr:only-child th {\n",
       "        text-align: right;\n",
       "    }\n",
       "\n",
       "    .dataframe thead th {\n",
       "        text-align: left;\n",
       "    }\n",
       "\n",
       "    .dataframe tbody tr th {\n",
       "        vertical-align: top;\n",
       "    }\n",
       "</style>\n",
       "<table border=\"1\" class=\"dataframe\">\n",
       "  <thead>\n",
       "    <tr style=\"text-align: right;\">\n",
       "      <th></th>\n",
       "      <th>chocolate_I have no idea what you are talking about</th>\n",
       "      <th>chocolate_fat</th>\n",
       "      <th>chocolate_neither</th>\n",
       "      <th>chocolate_slim</th>\n",
       "      <th>chocolate_unknown</th>\n",
       "    </tr>\n",
       "  </thead>\n",
       "  <tbody>\n",
       "    <tr>\n",
       "      <th>1</th>\n",
       "      <td>0</td>\n",
       "      <td>0</td>\n",
       "      <td>1</td>\n",
       "      <td>0</td>\n",
       "      <td>0</td>\n",
       "    </tr>\n",
       "    <tr>\n",
       "      <th>2</th>\n",
       "      <td>1</td>\n",
       "      <td>0</td>\n",
       "      <td>0</td>\n",
       "      <td>0</td>\n",
       "      <td>0</td>\n",
       "    </tr>\n",
       "    <tr>\n",
       "      <th>3</th>\n",
       "      <td>0</td>\n",
       "      <td>0</td>\n",
       "      <td>1</td>\n",
       "      <td>0</td>\n",
       "      <td>0</td>\n",
       "    </tr>\n",
       "    <tr>\n",
       "      <th>4</th>\n",
       "      <td>1</td>\n",
       "      <td>0</td>\n",
       "      <td>0</td>\n",
       "      <td>0</td>\n",
       "      <td>0</td>\n",
       "    </tr>\n",
       "    <tr>\n",
       "      <th>5</th>\n",
       "      <td>1</td>\n",
       "      <td>0</td>\n",
       "      <td>0</td>\n",
       "      <td>0</td>\n",
       "      <td>0</td>\n",
       "    </tr>\n",
       "  </tbody>\n",
       "</table>\n",
       "</div>"
      ],
      "text/plain": [
       "   chocolate_I have no idea what you are talking about  chocolate_fat  \\\n",
       "1                                                  0                0   \n",
       "2                                                  1                0   \n",
       "3                                                  0                0   \n",
       "4                                                  1                0   \n",
       "5                                                  1                0   \n",
       "\n",
       "   chocolate_neither  chocolate_slim  chocolate_unknown  \n",
       "1                  1               0                  0  \n",
       "2                  0               0                  0  \n",
       "3                  1               0                  0  \n",
       "4                  0               0                  0  \n",
       "5                  0               0                  0  "
      ]
     },
     "execution_count": 139,
     "metadata": {},
     "output_type": "execute_result"
    }
   ],
   "source": [
    "chocolate.head()"
   ]
  },
  {
   "cell_type": "code",
   "execution_count": 140,
   "metadata": {},
   "outputs": [
    {
     "data": {
      "image/png": "[encoded data removed]",
      "text/plain": [
       "<Figure size 720x360 with 1 Axes>"
      ]
     },
     "metadata": {},
     "output_type": "display_data"
    }
   ],
   "source": [
    "gender_array = np.argmax(gender.values,axis=1)\n",
    "chocolate_array = np.argmax(chocolate.values,axis=1)\n",
    "\n",
    "answer_female = np.empty(5)\n",
    "answer_male = np.empty(5)\n",
    "answer_unknown = np.empty(5)\n",
    "for i in range(5):\n",
    "    answer_female[i] = chocolate_array[np.where(chocolate_array[gender_array == 0] == i)].size\n",
    "    answer_male[i] = chocolate_array[np.where(chocolate_array[gender_array == 1] == i)].size\n",
    "    answer_unknown[i] = chocolate_array[np.where(chocolate_array[gender_array == 2] == i)].size\n",
    "\n",
    "female_x = np.arange(0,17,4)\n",
    "male_x = np.arange(1,18,4)\n",
    "unknown_x = np.arange(2,19,4)\n",
    "\n",
    "plt.figure(figsize=(10,5))\n",
    "plt.title(\"Percentage of genders per chocolate answer\")\n",
    "plt.ylabel(\"Percentage [%]\")\n",
    "\n",
    "plt.bar(female_x,100 * answer_female / np.sum(answer_female),label=\"Female\")\n",
    "plt.bar(male_x,100 * answer_male / np.sum(answer_male),label=\"Male\")\n",
    "plt.bar(unknown_x,100 * answer_unknown / np.sum(answer_unknown),label=\"Unknown\")\n",
    "\n",
    "plt.xticks(male_x,[\"No idea\",\"Fat\",\"Neither\",\"Slim\",\"Unknown\"])\n",
    "plt.legend()\n",
    "plt.show()"
   ]
  },
  {
   "cell_type": "markdown",
   "metadata": {},
   "source": [
    "## Number of gendered individuals per programme"
   ]
  },
  {
   "cell_type": "code",
   "execution_count": 141,
   "metadata": {},
   "outputs": [
    {
     "data": {
      "text/html": [
       "<div>\n",
       "<style>\n",
       "    .dataframe thead tr:only-child th {\n",
       "        text-align: right;\n",
       "    }\n",
       "\n",
       "    .dataframe thead th {\n",
       "        text-align: left;\n",
       "    }\n",
       "\n",
       "    .dataframe tbody tr th {\n",
       "        vertical-align: top;\n",
       "    }\n",
       "</style>\n",
       "<table border=\"1\" class=\"dataframe\">\n",
       "  <thead>\n",
       "    <tr style=\"text-align: right;\">\n",
       "      <th></th>\n",
       "      <th>programme_ai</th>\n",
       "      <th>programme_ba</th>\n",
       "      <th>programme_bioinformatics</th>\n",
       "      <th>programme_cls</th>\n",
       "      <th>programme_cs</th>\n",
       "      <th>programme_econometrics</th>\n",
       "      <th>programme_other</th>\n",
       "      <th>programme_qrm</th>\n",
       "    </tr>\n",
       "  </thead>\n",
       "  <tbody>\n",
       "    <tr>\n",
       "      <th>1</th>\n",
       "      <td>0</td>\n",
       "      <td>0</td>\n",
       "      <td>0</td>\n",
       "      <td>0</td>\n",
       "      <td>0</td>\n",
       "      <td>0</td>\n",
       "      <td>0</td>\n",
       "      <td>1</td>\n",
       "    </tr>\n",
       "    <tr>\n",
       "      <th>2</th>\n",
       "      <td>0</td>\n",
       "      <td>0</td>\n",
       "      <td>0</td>\n",
       "      <td>0</td>\n",
       "      <td>1</td>\n",
       "      <td>0</td>\n",
       "      <td>0</td>\n",
       "      <td>0</td>\n",
       "    </tr>\n",
       "    <tr>\n",
       "      <th>3</th>\n",
       "      <td>0</td>\n",
       "      <td>1</td>\n",
       "      <td>0</td>\n",
       "      <td>0</td>\n",
       "      <td>0</td>\n",
       "      <td>0</td>\n",
       "      <td>0</td>\n",
       "      <td>0</td>\n",
       "    </tr>\n",
       "    <tr>\n",
       "      <th>4</th>\n",
       "      <td>0</td>\n",
       "      <td>1</td>\n",
       "      <td>0</td>\n",
       "      <td>0</td>\n",
       "      <td>0</td>\n",
       "      <td>0</td>\n",
       "      <td>0</td>\n",
       "      <td>0</td>\n",
       "    </tr>\n",
       "    <tr>\n",
       "      <th>5</th>\n",
       "      <td>0</td>\n",
       "      <td>0</td>\n",
       "      <td>0</td>\n",
       "      <td>0</td>\n",
       "      <td>1</td>\n",
       "      <td>0</td>\n",
       "      <td>0</td>\n",
       "      <td>0</td>\n",
       "    </tr>\n",
       "  </tbody>\n",
       "</table>\n",
       "</div>"
      ],
      "text/plain": [
       "   programme_ai  programme_ba  programme_bioinformatics  programme_cls  \\\n",
       "1             0             0                         0              0   \n",
       "2             0             0                         0              0   \n",
       "3             0             1                         0              0   \n",
       "4             0             1                         0              0   \n",
       "5             0             0                         0              0   \n",
       "\n",
       "   programme_cs  programme_econometrics  programme_other  programme_qrm  \n",
       "1             0                       0                0              1  \n",
       "2             1                       0                0              0  \n",
       "3             0                       0                0              0  \n",
       "4             0                       0                0              0  \n",
       "5             1                       0                0              0  "
      ]
     },
     "execution_count": 141,
     "metadata": {},
     "output_type": "execute_result"
    }
   ],
   "source": [
    "programme.head()"
   ]
  },
  {
   "cell_type": "code",
   "execution_count": 142,
   "metadata": {},
   "outputs": [
    {
     "data": {
      "image/png": "[encoded data removed]",
      "text/plain": [
       "<Figure size 720x360 with 1 Axes>"
      ]
     },
     "metadata": {},
     "output_type": "display_data"
    }
   ],
   "source": [
    "gender_array = np.argmax(gender.values,axis=1)\n",
    "programme_array = np.argmax(programme.values,axis=1)\n",
    "\n",
    "programme_female = np.empty(8)\n",
    "programme_male = np.empty(8)\n",
    "programme_unknown = np.empty(8)\n",
    "for i in range(8):\n",
    "    programme_female[i] = programme_array[np.where(programme_array[gender_array == 0] == i)].size\n",
    "    programme_male[i] = programme_array[np.where(programme_array[gender_array == 1] == i)].size\n",
    "    programme_unknown[i] = programme_array[np.where(programme_array[gender_array == 2] == i)].size\n",
    "\n",
    "female_x = np.arange(0,29,4)\n",
    "male_x = np.arange(1,30,4)\n",
    "unknown_x = np.arange(2,31,4)\n",
    "\n",
    "plt.figure(figsize=(10,5))\n",
    "plt.title(\"Number of a females/males/unknowns per programme\")\n",
    "\n",
    "plt.bar(female_x,programme_female,label=\"Female\")\n",
    "plt.bar(male_x,programme_male,label=\"Male\")\n",
    "plt.bar(unknown_x,programme_unknown,label=\"Unknown\")\n",
    "\n",
    "plt.xticks(male_x,[\"AI\",\"BA\",\"Bioinformatics\",\"CLS\",\"CS\",\"Econometrics\",\"Other\",\"QRM\"])\n",
    "plt.legend()\n",
    "plt.show()"
   ]
  },
  {
   "cell_type": "markdown",
   "metadata": {},
   "source": [
    "## Good day string average length transformation"
   ]
  },
  {
   "cell_type": "code",
   "execution_count": 143,
   "metadata": {},
   "outputs": [
    {
     "data": {
      "image/png": "[encoded data removed]",
      "text/plain": [
       "<Figure size 720x360 with 1 Axes>"
      ]
     },
     "metadata": {},
     "output_type": "display_data"
    }
   ],
   "source": [
    "good_day_1 = df[\"good day 1\"][1:]\n",
    "good_day_2 = df[\"good day 2\"][1:]\n",
    "\n",
    "good_day_length = pd.Series(np.zeros(len(good_day_1)+1) , name = 'good day length')[1:]\n",
    "\n",
    "for i in range(1,len(good_day_length)+1):\n",
    "    good_day_length[i] = (len(good_day_1[i]) + len(good_day_2[i])) / 2\n",
    "\n",
    "plt.figure(figsize=(10,5))\n",
    "plt.title(\"Distribution of average character length\")\n",
    "plt.hist(good_day_length.values,20)\n",
    "plt.show()"
   ]
  },
  {
   "cell_type": "markdown",
   "metadata": {},
   "source": [
    "## Age retrieval from birthdays"
   ]
  },
  {
   "cell_type": "code",
   "execution_count": 144,
   "metadata": {},
   "outputs": [
    {
     "data": {
      "text/plain": [
       "1        10/12/1994\n",
       "2        06-08-1993\n",
       "3    25 december 92\n",
       "4        01-02-1995\n",
       "5        09.01.1994\n",
       "Name: birthday, dtype: object"
      ]
     },
     "execution_count": 144,
     "metadata": {},
     "output_type": "execute_result"
    }
   ],
   "source": [
    "df[\"birthday\"][1:].head()"
   ]
  },
  {
   "cell_type": "code",
   "execution_count": 145,
   "metadata": {},
   "outputs": [
    {
     "data": {
      "text/plain": [
       "25.126582    59\n",
       "24.000000    39\n",
       "23.000000    33\n",
       "25.000000    25\n",
       "26.000000    15\n",
       "22.000000    15\n",
       "27.000000    12\n",
       "28.000000    10\n",
       "30.000000     3\n",
       "31.000000     2\n",
       "21.000000     1\n",
       "37.000000     1\n",
       "29.000000     1\n",
       "87.000000     1\n",
       "Name: Age, dtype: int64"
      ]
     },
     "execution_count": 145,
     "metadata": {},
     "output_type": "execute_result"
    }
   ],
   "source": [
    "# Retrieve rough estimate for age from birthyears in birthdays\n",
    "age = df[\"birthday\"].copy()[1:]\n",
    "\n",
    "for i in range(1,len(age)+1):\n",
    "    match = re.search(\"19[0-9][0-9]\",age[i])\n",
    "    \n",
    "    if match:\n",
    "        age[i] = 2018 - int(match.group())\n",
    "    else:\n",
    "        age[i] = np.nan\n",
    "\n",
    "average_age = age.mean()\n",
    "age.name = \"Age\"\n",
    "age.fillna(average_age,inplace=True)\n",
    "\n",
    "age.value_counts()"
   ]
  },
  {
   "cell_type": "markdown",
   "metadata": {},
   "source": [
    "## Percentage of course per programme"
   ]
  },
  {
   "cell_type": "code",
   "execution_count": 150,
   "metadata": {},
   "outputs": [
    {
     "data": {
      "image/png": "[encoded data removed]",
      "text/plain": [
       "<Figure size 1440x720 with 1 Axes>"
      ]
     },
     "metadata": {},
     "output_type": "display_data"
    }
   ],
   "source": [
    "programme_array = np.argmax(programme.values,axis=1)\n",
    "ml_array = ml[\"ml_yes\"].values\n",
    "ir_array = ir[\"ir_1\"].values\n",
    "stats_array = stats[\"stats_mu\"].values\n",
    "databases_array = databases[\"databases_ja\"].values\n",
    "\n",
    "programme_ml = np.empty(8)\n",
    "programme_ir = np.empty(8)\n",
    "programme_stats = np.empty(8)\n",
    "programme_databases = np.empty(8)\n",
    "for i in range(8):\n",
    "    prog_instances = np.where(programme_array == i)\n",
    "    \n",
    "    programme_ml[i] = 100 * np.sum(ml_array[prog_instances]) / ml_array[prog_instances].size\n",
    "    programme_ir[i] = 100 * np.sum(ir_array[prog_instances]) / ir_array[prog_instances].size\n",
    "    programme_stats[i] = 100 * np.sum(stats_array[prog_instances]) / stats_array[prog_instances].size\n",
    "    programme_databases[i] = 100 * np.sum(databases_array[prog_instances]) / databases_array[prog_instances].size\n",
    "    \n",
    "\n",
    "ml_x = np.arange(0,36,5)\n",
    "ir_x = np.arange(1,37,5)\n",
    "stats_x = np.arange(2,38,5)\n",
    "databases_x = np.arange(3,39,5)\n",
    "\n",
    "plt.figure(figsize=(20,10))\n",
    "plt.title(\"Percentage of course type per programme\")\n",
    "plt.ylabel(\"Percentage [%]\")\n",
    "plt.grid(True)\n",
    "\n",
    "plt.bar(ml_x,programme_ml,label=\"Machine Learning\")\n",
    "plt.bar(ir_x,programme_ir,label=\"Information Retrieval\")\n",
    "plt.bar(stats_x,programme_stats,label=\"Statistics\")\n",
    "plt.bar(databases_x,programme_databases,label=\"Databases\")\n",
    "\n",
    "plt.xticks((ir_x + stats_x) / 2,[\"AI\",\"BA\",\"Bioinformatics\",\"CLS\",\"CS\",\"Econometrics\",\"Other\",\"QRM\"])\n",
    "plt.legend()\n",
    "plt.show()"
   ]
  },
  {
   "cell_type": "markdown",
   "metadata": {},
   "source": [
    "# Classification of Chocolate answers"
   ]
  },
  {
   "cell_type": "markdown",
   "metadata": {},
   "source": [
    "First we select the attributes which we want to use for our classification algorithms and the target which we want to predict using these models."
   ]
  },
  {
   "cell_type": "code",
   "execution_count": 147,
   "metadata": {},
   "outputs": [
    {
     "data": {
      "text/html": [
       "<div>\n",
       "<style>\n",
       "    .dataframe thead tr:only-child th {\n",
       "        text-align: right;\n",
       "    }\n",
       "\n",
       "    .dataframe thead th {\n",
       "        text-align: left;\n",
       "    }\n",
       "\n",
       "    .dataframe tbody tr th {\n",
       "        vertical-align: top;\n",
       "    }\n",
       "</style>\n",
       "<table border=\"1\" class=\"dataframe\">\n",
       "  <thead>\n",
       "    <tr style=\"text-align: right;\">\n",
       "      <th></th>\n",
       "      <th>programme_ai</th>\n",
       "      <th>programme_ba</th>\n",
       "      <th>programme_bioinformatics</th>\n",
       "      <th>programme_cls</th>\n",
       "      <th>programme_cs</th>\n",
       "      <th>programme_econometrics</th>\n",
       "      <th>programme_other</th>\n",
       "      <th>programme_qrm</th>\n",
       "      <th>ml_no</th>\n",
       "      <th>ml_unknown</th>\n",
       "      <th>...</th>\n",
       "      <th>stats_mu</th>\n",
       "      <th>stats_sigma</th>\n",
       "      <th>stats_unknown</th>\n",
       "      <th>databases_ja</th>\n",
       "      <th>databases_nee</th>\n",
       "      <th>databases_unknown</th>\n",
       "      <th>gender_female</th>\n",
       "      <th>gender_male</th>\n",
       "      <th>gender_unknown</th>\n",
       "      <th>Age</th>\n",
       "    </tr>\n",
       "  </thead>\n",
       "  <tbody>\n",
       "    <tr>\n",
       "      <th>1</th>\n",
       "      <td>0</td>\n",
       "      <td>0</td>\n",
       "      <td>0</td>\n",
       "      <td>0</td>\n",
       "      <td>0</td>\n",
       "      <td>0</td>\n",
       "      <td>0</td>\n",
       "      <td>1</td>\n",
       "      <td>1</td>\n",
       "      <td>0</td>\n",
       "      <td>...</td>\n",
       "      <td>1</td>\n",
       "      <td>0</td>\n",
       "      <td>0</td>\n",
       "      <td>0</td>\n",
       "      <td>1</td>\n",
       "      <td>0</td>\n",
       "      <td>0</td>\n",
       "      <td>1</td>\n",
       "      <td>0</td>\n",
       "      <td>24.000000</td>\n",
       "    </tr>\n",
       "    <tr>\n",
       "      <th>2</th>\n",
       "      <td>0</td>\n",
       "      <td>0</td>\n",
       "      <td>0</td>\n",
       "      <td>0</td>\n",
       "      <td>1</td>\n",
       "      <td>0</td>\n",
       "      <td>0</td>\n",
       "      <td>0</td>\n",
       "      <td>1</td>\n",
       "      <td>0</td>\n",
       "      <td>...</td>\n",
       "      <td>0</td>\n",
       "      <td>0</td>\n",
       "      <td>1</td>\n",
       "      <td>1</td>\n",
       "      <td>0</td>\n",
       "      <td>0</td>\n",
       "      <td>0</td>\n",
       "      <td>1</td>\n",
       "      <td>0</td>\n",
       "      <td>25.000000</td>\n",
       "    </tr>\n",
       "    <tr>\n",
       "      <th>3</th>\n",
       "      <td>0</td>\n",
       "      <td>1</td>\n",
       "      <td>0</td>\n",
       "      <td>0</td>\n",
       "      <td>0</td>\n",
       "      <td>0</td>\n",
       "      <td>0</td>\n",
       "      <td>0</td>\n",
       "      <td>0</td>\n",
       "      <td>0</td>\n",
       "      <td>...</td>\n",
       "      <td>0</td>\n",
       "      <td>1</td>\n",
       "      <td>0</td>\n",
       "      <td>1</td>\n",
       "      <td>0</td>\n",
       "      <td>0</td>\n",
       "      <td>0</td>\n",
       "      <td>1</td>\n",
       "      <td>0</td>\n",
       "      <td>25.126582</td>\n",
       "    </tr>\n",
       "    <tr>\n",
       "      <th>4</th>\n",
       "      <td>0</td>\n",
       "      <td>1</td>\n",
       "      <td>0</td>\n",
       "      <td>0</td>\n",
       "      <td>0</td>\n",
       "      <td>0</td>\n",
       "      <td>0</td>\n",
       "      <td>0</td>\n",
       "      <td>0</td>\n",
       "      <td>0</td>\n",
       "      <td>...</td>\n",
       "      <td>1</td>\n",
       "      <td>0</td>\n",
       "      <td>0</td>\n",
       "      <td>1</td>\n",
       "      <td>0</td>\n",
       "      <td>0</td>\n",
       "      <td>0</td>\n",
       "      <td>1</td>\n",
       "      <td>0</td>\n",
       "      <td>23.000000</td>\n",
       "    </tr>\n",
       "    <tr>\n",
       "      <th>5</th>\n",
       "      <td>0</td>\n",
       "      <td>0</td>\n",
       "      <td>0</td>\n",
       "      <td>0</td>\n",
       "      <td>1</td>\n",
       "      <td>0</td>\n",
       "      <td>0</td>\n",
       "      <td>0</td>\n",
       "      <td>1</td>\n",
       "      <td>0</td>\n",
       "      <td>...</td>\n",
       "      <td>0</td>\n",
       "      <td>1</td>\n",
       "      <td>0</td>\n",
       "      <td>1</td>\n",
       "      <td>0</td>\n",
       "      <td>0</td>\n",
       "      <td>0</td>\n",
       "      <td>1</td>\n",
       "      <td>0</td>\n",
       "      <td>24.000000</td>\n",
       "    </tr>\n",
       "  </tbody>\n",
       "</table>\n",
       "<p>5 rows × 24 columns</p>\n",
       "</div>"
      ],
      "text/plain": [
       "   programme_ai  programme_ba  programme_bioinformatics  programme_cls  \\\n",
       "1             0             0                         0              0   \n",
       "2             0             0                         0              0   \n",
       "3             0             1                         0              0   \n",
       "4             0             1                         0              0   \n",
       "5             0             0                         0              0   \n",
       "\n",
       "   programme_cs  programme_econometrics  programme_other  programme_qrm  \\\n",
       "1             0                       0                0              1   \n",
       "2             1                       0                0              0   \n",
       "3             0                       0                0              0   \n",
       "4             0                       0                0              0   \n",
       "5             1                       0                0              0   \n",
       "\n",
       "   ml_no  ml_unknown    ...      stats_mu  stats_sigma  stats_unknown  \\\n",
       "1      1           0    ...             1            0              0   \n",
       "2      1           0    ...             0            0              1   \n",
       "3      0           0    ...             0            1              0   \n",
       "4      0           0    ...             1            0              0   \n",
       "5      1           0    ...             0            1              0   \n",
       "\n",
       "   databases_ja  databases_nee  databases_unknown  gender_female  gender_male  \\\n",
       "1             0              1                  0              0            1   \n",
       "2             1              0                  0              0            1   \n",
       "3             1              0                  0              0            1   \n",
       "4             1              0                  0              0            1   \n",
       "5             1              0                  0              0            1   \n",
       "\n",
       "   gender_unknown        Age  \n",
       "1               0  24.000000  \n",
       "2               0  25.000000  \n",
       "3               0  25.126582  \n",
       "4               0  23.000000  \n",
       "5               0  24.000000  \n",
       "\n",
       "[5 rows x 24 columns]"
      ]
     },
     "execution_count": 147,
     "metadata": {},
     "output_type": "execute_result"
    }
   ],
   "source": [
    "#input_df = pd.concat([programme,ml,ir,stats,databases,gender,age,randLabels,good_day_length],axis=1)\n",
    "input_df = pd.concat([programme,ml,ir,stats,databases,gender,age],axis=1)\n",
    "\n",
    "inputs = input_df.values\n",
    "target = np.argmax(chocolate.values,axis=1)\n",
    "\n",
    "input_df.head()"
   ]
  },
  {
   "cell_type": "markdown",
   "metadata": {},
   "source": [
    "Next we try to train two classification algorithms using these attributes in order to predict the answer to the question \"Chocolate make you ___\".\n",
    "\n",
    "We first train a naive Bayes model using a multinomial distribution for the likelihood. The score is determined using K-Fold Cross Validation."
   ]
  },
  {
   "cell_type": "code",
   "execution_count": 148,
   "metadata": {},
   "outputs": [
    {
     "name": "stdout",
     "output_type": "stream",
     "text": [
      "Average score Multinomial Naive Bayes: 0.437879\n"
     ]
    }
   ],
   "source": [
    "model = MultinomialNB()\n",
    "\n",
    "n = 10\n",
    "avg_score = 0\n",
    "kfold = KFold(n_splits=n,shuffle=False)\n",
    "for train_idx, test_idx in kfold.split(inputs,target):\n",
    "    x_train, x_test = inputs[train_idx], inputs[test_idx]\n",
    "    t_train, t_test = target[train_idx], target[test_idx]\n",
    "    \n",
    "    model.fit(x_train, t_train)\n",
    "    avg_score += model.score(x_test,t_test)\n",
    "\n",
    "avg_score /= n\n",
    "print(\"Average score Multinomial Naive Bayes: %lf\" % (avg_score))"
   ]
  },
  {
   "cell_type": "markdown",
   "metadata": {},
   "source": [
    "Next we train a Logistic Regression model. Again, the score is determined using K-Fold Cross Validation."
   ]
  },
  {
   "cell_type": "code",
   "execution_count": 149,
   "metadata": {},
   "outputs": [
    {
     "name": "stdout",
     "output_type": "stream",
     "text": [
      "Average score Logistic Regression: 0.433333\n"
     ]
    }
   ],
   "source": [
    "model = LogisticRegression()\n",
    "\n",
    "n = 10\n",
    "\n",
    "avg_score = 0\n",
    "kfold = KFold(n_splits=n,shuffle=False)\n",
    "for train_idx, test_idx in kfold.split(inputs,target):\n",
    "    x_train, x_test = inputs[train_idx], inputs[test_idx]\n",
    "    t_train, t_test = target[train_idx], target[test_idx]    \n",
    "    model.fit(x_train, t_train)\n",
    "    avg_score += model.score(x_test,t_test)\n",
    "\n",
    "avg_score /= n\n",
    "\n",
    "print(\"Average score Logistic Regression: %lf\" % (avg_score))"
   ]
  }
 ],
 "metadata": {
  "kernelspec": {
   "display_name": "Python [default]",
   "language": "python",
   "name": "python3"
  },
  "language_info": {
   "codemirror_mode": {
    "name": "ipython",
    "version": 3
   },
   "file_extension": ".py",
   "mimetype": "text/x-python",
   "name": "python",
   "nbconvert_exporter": "python",
   "pygments_lexer": "ipython3",
   "version": "3.6.3"
  }
 },
 "nbformat": 4,
 "nbformat_minor": 2
}
